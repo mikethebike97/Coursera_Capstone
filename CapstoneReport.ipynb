{
 "cells": [
  {
   "cell_type": "markdown",
   "metadata": {},
   "source": [
    "# Moving to Dublin, Ireland\n",
    "### Coursera Python Capstone Project\n",
    "### Author: Michael C"
   ]
  },
  {
   "cell_type": "markdown",
   "metadata": {},
   "source": [
    "## Introduction / Business Problem\n"
   ]
  },
  {
   "cell_type": "markdown",
   "metadata": {},
   "source": [
    "Dublin is the capital city of Ireland, and by far the largest city in the country. Over the past two decades Dublin has emerged as a hub for tech companies, with the European Headquarters of Google, Facebook, Twitter, Linkedin and many others based in the [Silicon Docks](https://en.wikipedia.org/wiki/Silicon_Docks) area of the city. Thus, it is not surprising that there are many Data Science positions available in Dublin.\n",
    "\n",
    "As someone beginning their career as a Data Analyst in Ireland, my next role is likely to be in Dublin and I will need to relocate to the city. Dublin City and the surrounding area is divided into many small neighbourhoods, called Electoral Districts (EDs). To give myself the best quality of life, I wish to live in the neighbourhood that is best suited to my needs. I have created a list of criteria which my new neighbourhood needs to satisfy:\n",
    " - Dublin City is surrounded by a motorway (highway) ring-road to the north, west and south called the M50. I wish to live inside this ring-road so that the city centre is easily reachable from my new neighbourhood.\n",
    " - I do not own a car, so it is essential that I am within walking distance of a supermarket.\n",
    " - Getting exercise and spending time outdoors is really important. So I wish to live close to a park and a gym.\n",
    " - Dublin's buses can be overcrowded and get delayed by rush hour traffic. Therefore I wish to live close to a train or tram station.\n",
    " - I enjoy coffee, so I'd like to have a Café in my neighbourhood.\n",
    " - I'd like to have a nice bar or pub in my neighbourhood.\n",
    " - I enjoy going to see the latest movies, so I'd like to live close to a cinema (movie theatre).\n",
    " - My favourite two cuisines are Italian food and Indian food. I'd like my neighbourhood to offer both cuisines.\n",
    " \n",
    "Ideally, I'd like to live near the water, as it more scenic and tranquil. Dublin is a maritime city and also has canals. \n",
    "I would also prefer to have a sports club in my neighbourhood.\n",
    "\n",
    "In addition, there are a few amenities which I don't want in my new neighbourhood. I will not live near an airport, a nightclub, or a casino, as these will be too noisy at night. In addition, I will avoid areas with a betting shop.\n",
    "\n",
    "Using Foursquare location data, I will identify the Dublin neighbourhoods which best satisfy my criteria. I will then cluster these remaining neighbourhoods and look at the most common amenities in each cluster. I will select which cluster seems most attractive to me, and then choose which neighbourhood in that cluster I'd most like to live in.\n",
    "\n",
    "My analysis will identify the most attractive and liveable neighbourhoods in Dublin City. This will assist me and other like minded people to know which areas to search for accommodation in when moving to Dublin. Let the Battle of the Neighbourhoods begin!"
   ]
  },
  {
   "cell_type": "markdown",
   "metadata": {},
   "source": [
    "## Data"
   ]
  },
  {
   "cell_type": "markdown",
   "metadata": {},
   "source": [
    "I will be primarily using two datasets in this project\n",
    "\n",
    "#### 1. Dublin Electoral District Data\n",
    "County Dublin, in which Dublin City is located, is divided into 353 smaller areas or neighbourhoods which are called Electoral Districts (EDs). The website [townlands.ie](https://www.townlands.ie/page/download/) provides spatial data for Electoral Districts, and is derived from OpenStreetMap. The GeoJson version of the dataset will be used in a similar manner as the 'newyork_data.json' dataset was used in the Manhattan Neighbourhood's project. This dataset will allow for Folium Maps showing clusters of neighbourhoods and their location relative to each other and the city centre. \n",
    "The longitude and latitude fields will enable the identification of neighbourhoods outside of the city's surrounding ring-road. There are 6 fields of interest in this dataset:\n",
    " - geometry.coordinates: This contains a list of the co-ordinates (latitude and longitude) which define the boundary of the neighbourhood\n",
    " - properties.LATITUDE: The latitude of the centre point of the neighbourhood\n",
    " - properties.LONGITUDE: The longitude of the centre point of the neighbourhood\n",
    " - properties.NAME_TAG: The name of the neighbourhood\n",
    " - 'properties.CO_NAME': The county in which the neighbourhood is located. Since the dataset covers the entire country of Ireland, this field is needed so that only neighbourhoods in Dublin are included in the analysis.\n",
    "  \n",
    " \n",
    "\n",
    "#### 2. Foursquare Location data\n",
    "Foursquare location data will be used to identify the amenities (venue) in each Dublin neighbourhood. It is important to be aware that Foursquare does not contain every business or amenity in Dublin, but does provide a comprehensive list of facilities. On intial data exploration, it was found that there is 272 unique categories of amenity in County Dublin. Some of these categories are very similar to each other (e.g. Indian Restaurant and North Indian Restaurant) so some may need to be grouped manually. This will give each neighbourhood the best chance of achieving all the criteria outlined in the Introduction section.\n",
    "The Foursquare location data will also be used to cluster the neighbourhoods which satisfy the criteria, and to identify which neighbourhood best suits my interests and needs. There are 4 fields which are required about each amenity:\n",
    " - name: The name of the business or amenity\n",
    " - lat: The latitude of the amenity\n",
    " - lng: The longitude of the amenity\n",
    " - categories: The category of the amenity\n",
    " \n",
    "Foursquare also offers reviews of venues which would be desirable knowledge to have when choosing a nieghbourhood. This will not be included in this project as it would greatly increase the complexity of the project."
   ]
  },
  {
   "cell_type": "code",
   "execution_count": null,
   "metadata": {},
   "outputs": [],
   "source": []
  }
 ],
 "metadata": {
  "kernelspec": {
   "display_name": "Python 3",
   "language": "python",
   "name": "python3"
  },
  "language_info": {
   "codemirror_mode": {
    "name": "ipython",
    "version": 3
   },
   "file_extension": ".py",
   "mimetype": "text/x-python",
   "name": "python",
   "nbconvert_exporter": "python",
   "pygments_lexer": "ipython3",
   "version": "3.7.1"
  }
 },
 "nbformat": 4,
 "nbformat_minor": 2
}
